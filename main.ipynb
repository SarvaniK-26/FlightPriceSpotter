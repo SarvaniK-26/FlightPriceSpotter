{
 "cells": [
  {
   "cell_type": "code",
   "execution_count": 11,
   "metadata": {},
   "outputs": [],
   "source": [
    "from selenium import webdriver\n",
    "from bs4 import BeautifulSoup\n",
    "import pandas as pd\n",
    "import time\n",
    "from email.mime.multipart import MIMEMultipart\n",
    "from email.mime.text import MIMEText\n",
    "import smtplib\n",
    "import os\n",
    "from dotenv import load_dotenv\n",
    "from pathlib import Path "
   ]
  },
  {
   "cell_type": "code",
   "execution_count": 12,
   "metadata": {},
   "outputs": [],
   "source": [
    "# function to send email of cheap flight\n",
    "def send_email(price,url):\n",
    "    \n",
    "        # create message object \n",
    "        msg = MIMEMultipart()\n",
    "        \n",
    "        message = \"Low price found at: $\" + price + \"\\nLINK: \" + url\n",
    "\n",
    "        env_path = Path('.')/'.env'\n",
    "        load_dotenv(dotenv_path = env_path)\n",
    "        \n",
    "        # setup the parameters from env var\n",
    "        password = os.getenv('PASSWORDEMAIL')\n",
    "        msg['From'] = os.getenv('FROM')\n",
    "        msg['To'] = os.getenv('TO')\n",
    "        msg['Subject'] = \"Price Match Found for Flight!\"\n",
    "        \n",
    "        # add message \n",
    "        msg.attach(MIMEText(message, 'plain'))\n",
    "         \n",
    "        #create server\n",
    "        server = smtplib.SMTP('smtp.gmail.com: 587')\n",
    "        \n",
    "        server.starttls()\n",
    "        \n",
    "        server.login(msg['From'], password)\n",
    "        \n",
    "        # send the message to email\n",
    "        server.sendmail(msg['From'], msg['To'], msg.as_string())\n",
    "        \n",
    "        server.quit()\n"
   ]
  },
  {
   "cell_type": "code",
   "execution_count": 13,
   "metadata": {},
   "outputs": [
    {
     "ename": "KeyboardInterrupt",
     "evalue": "",
     "output_type": "error",
     "traceback": [
      "\u001b[1;31m---------------------------------------------------------------------------\u001b[0m",
      "\u001b[1;31mKeyboardInterrupt\u001b[0m                         Traceback (most recent call last)",
      "Cell \u001b[1;32mIn[13], line 15\u001b[0m\n\u001b[0;32m     13\u001b[0m url \u001b[38;5;241m=\u001b[39m \u001b[38;5;124mf\u001b[39m\u001b[38;5;124m'\u001b[39m\u001b[38;5;124mhttps://www.kayak.com/flights/\u001b[39m\u001b[38;5;132;01m{\u001b[39;00morigin\u001b[38;5;132;01m}\u001b[39;00m\u001b[38;5;124m-\u001b[39m\u001b[38;5;132;01m{\u001b[39;00mdestination\u001b[38;5;132;01m}\u001b[39;00m\u001b[38;5;124m/\u001b[39m\u001b[38;5;132;01m{\u001b[39;00mdeparture_date\u001b[38;5;132;01m}\u001b[39;00m\u001b[38;5;124m/\u001b[39m\u001b[38;5;132;01m{\u001b[39;00mreturn_date\u001b[38;5;132;01m}\u001b[39;00m\u001b[38;5;124m?sort=price_a&fs=stops=-2\u001b[39m\u001b[38;5;124m'\u001b[39m\n\u001b[0;32m     14\u001b[0m driver\u001b[38;5;241m.\u001b[39mget(url)\n\u001b[1;32m---> 15\u001b[0m \u001b[43mtime\u001b[49m\u001b[38;5;241;43m.\u001b[39;49m\u001b[43msleep\u001b[49m\u001b[43m(\u001b[49m\u001b[38;5;241;43m15\u001b[39;49m\u001b[43m)\u001b[49m\n\u001b[0;32m     16\u001b[0m content\u001b[38;5;241m=\u001b[39mdriver\u001b[38;5;241m.\u001b[39mpage_source\n\u001b[0;32m     17\u001b[0m soup\u001b[38;5;241m=\u001b[39mBeautifulSoup(content)\n",
      "\u001b[1;31mKeyboardInterrupt\u001b[0m: "
     ]
    }
   ],
   "source": [
    "while True:\n",
    "    # open up google \n",
    "    driver=webdriver.Chrome()\n",
    "\n",
    "    # store information for flight\n",
    "    origin = 'STL'\n",
    "    destination = 'LAX'\n",
    "    departure_date = '2024-09-20'\n",
    "    return_date = '2024-11-27'\n",
    "\n",
    "\n",
    "    # get to the website\n",
    "    url = f'https://www.kayak.com/flights/{origin}-{destination}/{departure_date}/{return_date}?sort=price_a&fs=stops=-2'\n",
    "    driver.get(url)\n",
    "    time.sleep(15)\n",
    "    content=driver.page_source\n",
    "    soup=BeautifulSoup(content)\n",
    "\n",
    "    for div in soup.findAll('div',attrs={'class':'Hv20-value'}):\n",
    "        # gets the best price \n",
    "        price=div.text[1:4]\n",
    "\n",
    "        if int(price) < 375:\n",
    "            send_email(price,url)\n",
    "\n",
    "    # driver.quit()\n",
    "    # time.sleep(10800)"
   ]
  }
 ],
 "metadata": {
  "kernelspec": {
   "display_name": "amazon_scraper",
   "language": "python",
   "name": "python3"
  },
  "language_info": {
   "codemirror_mode": {
    "name": "ipython",
    "version": 3
   },
   "file_extension": ".py",
   "mimetype": "text/x-python",
   "name": "python",
   "nbconvert_exporter": "python",
   "pygments_lexer": "ipython3",
   "version": "3.9.19"
  }
 },
 "nbformat": 4,
 "nbformat_minor": 2
}
