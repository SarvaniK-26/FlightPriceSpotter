{
 "cells": [
  {
   "cell_type": "code",
   "execution_count": null,
   "metadata": {},
   "outputs": [],
   "source": [
    "from selenium import webdriver\n",
    "from bs4 import BeautifulSoup\n",
    "import time\n",
    "from email.mime.multipart import MIMEMultipart\n",
    "from email.mime.text import MIMEText\n",
    "import smtplib\n",
    "import os\n",
    "from dotenv import load_dotenv\n",
    "from pathlib import Path \n"
   ]
  },
  {
   "cell_type": "code",
   "execution_count": null,
   "metadata": {},
   "outputs": [],
   "source": [
    "# function to send email of cheap flight\n",
    "def send_email(price,url):\n",
    "    \n",
    "        # create message object \n",
    "        msg = MIMEMultipart()\n",
    "        \n",
    "        message = \"Low price found at: $\" + price + \"\\nLINK: \" + url\n",
    "\n",
    "        env_path = Path('.')/'.env'\n",
    "        load_dotenv(dotenv_path = env_path)\n",
    "        \n",
    "        # setup the parameters from env var\n",
    "        password = os.getenv('PASSWORDEMAIL')\n",
    "        msg['From'] = os.getenv('FROM')\n",
    "        msg['To'] = os.getenv('TO')\n",
    "        msg['Subject'] = \"Price Match Found for Flight!\"\n",
    "        \n",
    "        # add message \n",
    "        msg.attach(MIMEText(message, 'plain'))\n",
    "         \n",
    "        #create server\n",
    "        server = smtplib.SMTP('smtp.gmail.com: 587')\n",
    "        \n",
    "        server.starttls()\n",
    "        \n",
    "        server.login(msg['From'], password)\n",
    "        \n",
    "        # send the message to email\n",
    "        server.sendmail(msg['From'], msg['To'], msg.as_string())\n",
    "        \n",
    "        server.quit()\n"
   ]
  },
  {
   "cell_type": "code",
   "execution_count": null,
   "metadata": {},
   "outputs": [],
   "source": [
    "while True:\n",
    "    # open up google \n",
    "    driver=webdriver.Chrome()\n",
    "\n",
    "    # store information for flight\n",
    "    origin = 'ORD'\n",
    "    destination = 'BWI'\n",
    "    departure_date = '2024-12-14'\n",
    "    return_date = '2024-12-20'\n",
    "\n",
    "\n",
    "    # get to the website\n",
    "    url = f'https://www.kayak.com/flights/{origin}-{destination}/{departure_date}/{return_date}?sort=price_a&fs=stops=-2'\n",
    "    driver.get(url)\n",
    "    time.sleep(15)\n",
    "    content=driver.page_source\n",
    "    soup=BeautifulSoup(content)\n",
    "\n",
    "    for div in soup.findAll('div',attrs={'class':'Hv20-value'}):\n",
    "        # gets the best price \n",
    "        price=div.text[1:4]\n",
    "\n",
    "        if int(price) < 375:\n",
    "            send_email(price,url)\n",
    "\n",
    "    driver.quit()\n",
    "    # time.sleep(10800)"
   ]
  }
 ],
 "metadata": {
  "kernelspec": {
   "display_name": "amazon_scraper",
   "language": "python",
   "name": "python3"
  },
  "language_info": {
   "codemirror_mode": {
    "name": "ipython",
    "version": 3
   },
   "file_extension": ".py",
   "mimetype": "text/x-python",
   "name": "python",
   "nbconvert_exporter": "python",
   "pygments_lexer": "ipython3",
   "version": "3.9.19"
  }
 },
 "nbformat": 4,
 "nbformat_minor": 2
}
