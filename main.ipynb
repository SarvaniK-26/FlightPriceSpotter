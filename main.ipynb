{
 "cells": [
  {
   "cell_type": "code",
   "execution_count": 15,
   "metadata": {},
   "outputs": [],
   "source": [
    "from selenium import webdriver\n",
    "from bs4 import BeautifulSoup\n",
    "import time\n",
    "from email.mime.multipart import MIMEMultipart\n",
    "from email.mime.text import MIMEText\n",
    "import smtplib\n",
    "import os\n",
    "from dotenv import load_dotenv\n",
    "from pathlib import Path "
   ]
  },
  {
   "cell_type": "code",
   "execution_count": 16,
   "metadata": {},
   "outputs": [],
   "source": [
    "# function to send email of cheap flight\n",
    "def send_email(price,url):\n",
    "    \n",
    "        # create message object \n",
    "        msg = MIMEMultipart()\n",
    "        \n",
    "        message = \"Low price found at: $\" + price + \"\\nLINK: \" + url\n",
    "\n",
    "        env_path = Path('.')/'.env'\n",
    "        load_dotenv(dotenv_path = env_path)\n",
    "        \n",
    "        # setup the parameters from env var\n",
    "        password = os.getenv('PASSWORDEMAIL')\n",
    "        msg['From'] = os.getenv('FROM')\n",
    "        msg['To'] = os.getenv('TO')\n",
    "        msg['Subject'] = \"Price Match Found for Flight!\"\n",
    "        \n",
    "        # add message \n",
    "        msg.attach(MIMEText(message, 'plain'))\n",
    "         \n",
    "        #create server\n",
    "        server = smtplib.SMTP('smtp.gmail.com: 587')\n",
    "        \n",
    "        server.starttls()\n",
    "        \n",
    "        server.login(msg['From'], password)\n",
    "        \n",
    "        # send the message to email\n",
    "        server.sendmail(msg['From'], msg['To'], msg.as_string())\n",
    "        \n",
    "        server.quit()\n"
   ]
  },
  {
   "cell_type": "code",
   "execution_count": 17,
   "metadata": {},
   "outputs": [
    {
     "ename": "NoSuchWindowException",
     "evalue": "Message: no such window: target window already closed\nfrom unknown error: web view not found\n  (Session info: chrome=124.0.6367.202)\nStacktrace:\n\tGetHandleVerifier [0x00007FF637E21562+60802]\n\t(No symbol) [0x00007FF637D9AC62]\n\t(No symbol) [0x00007FF637C57CE4]\n\t(No symbol) [0x00007FF637C2DFDF]\n\t(No symbol) [0x00007FF637CD1E57]\n\t(No symbol) [0x00007FF637CE98D1]\n\t(No symbol) [0x00007FF637CCA923]\n\t(No symbol) [0x00007FF637C98FEC]\n\t(No symbol) [0x00007FF637C99C21]\n\tGetHandleVerifier [0x00007FF6381241FD+3217949]\n\tGetHandleVerifier [0x00007FF638166197+3488183]\n\tGetHandleVerifier [0x00007FF63815F11F+3459391]\n\tGetHandleVerifier [0x00007FF637EDB926+823622]\n\t(No symbol) [0x00007FF637DA5FFF]\n\t(No symbol) [0x00007FF637DA0F24]\n\t(No symbol) [0x00007FF637DA10B2]\n\t(No symbol) [0x00007FF637D91904]\n\tBaseThreadInitThunk [0x00007FFDF301257D+29]\n\tRtlUserThreadStart [0x00007FFDF496AA48+40]\n",
     "output_type": "error",
     "traceback": [
      "\u001b[1;31m---------------------------------------------------------------------------\u001b[0m",
      "\u001b[1;31mNoSuchWindowException\u001b[0m                     Traceback (most recent call last)",
      "Cell \u001b[1;32mIn[17], line 14\u001b[0m\n\u001b[0;32m     12\u001b[0m \u001b[38;5;66;03m# get to the website\u001b[39;00m\n\u001b[0;32m     13\u001b[0m url \u001b[38;5;241m=\u001b[39m \u001b[38;5;124mf\u001b[39m\u001b[38;5;124m'\u001b[39m\u001b[38;5;124mhttps://www.kayak.com/flights/\u001b[39m\u001b[38;5;132;01m{\u001b[39;00morigin\u001b[38;5;132;01m}\u001b[39;00m\u001b[38;5;124m-\u001b[39m\u001b[38;5;132;01m{\u001b[39;00mdestination\u001b[38;5;132;01m}\u001b[39;00m\u001b[38;5;124m/\u001b[39m\u001b[38;5;132;01m{\u001b[39;00mdeparture_date\u001b[38;5;132;01m}\u001b[39;00m\u001b[38;5;124m/\u001b[39m\u001b[38;5;132;01m{\u001b[39;00mreturn_date\u001b[38;5;132;01m}\u001b[39;00m\u001b[38;5;124m?sort=price_a&fs=stops=-2\u001b[39m\u001b[38;5;124m'\u001b[39m\n\u001b[1;32m---> 14\u001b[0m \u001b[43mdriver\u001b[49m\u001b[38;5;241;43m.\u001b[39;49m\u001b[43mget\u001b[49m\u001b[43m(\u001b[49m\u001b[43murl\u001b[49m\u001b[43m)\u001b[49m\n\u001b[0;32m     15\u001b[0m time\u001b[38;5;241m.\u001b[39msleep(\u001b[38;5;241m15\u001b[39m)\n\u001b[0;32m     16\u001b[0m content\u001b[38;5;241m=\u001b[39mdriver\u001b[38;5;241m.\u001b[39mpage_source\n",
      "File \u001b[1;32mc:\\Users\\sklhs\\anaconda3\\envs\\amazon_scraper\\lib\\site-packages\\selenium\\webdriver\\remote\\webdriver.py:356\u001b[0m, in \u001b[0;36mWebDriver.get\u001b[1;34m(self, url)\u001b[0m\n\u001b[0;32m    354\u001b[0m \u001b[38;5;28;01mdef\u001b[39;00m \u001b[38;5;21mget\u001b[39m(\u001b[38;5;28mself\u001b[39m, url: \u001b[38;5;28mstr\u001b[39m) \u001b[38;5;241m-\u001b[39m\u001b[38;5;241m>\u001b[39m \u001b[38;5;28;01mNone\u001b[39;00m:\n\u001b[0;32m    355\u001b[0m \u001b[38;5;250m    \u001b[39m\u001b[38;5;124;03m\"\"\"Loads a web page in the current browser session.\"\"\"\u001b[39;00m\n\u001b[1;32m--> 356\u001b[0m     \u001b[38;5;28;43mself\u001b[39;49m\u001b[38;5;241;43m.\u001b[39;49m\u001b[43mexecute\u001b[49m\u001b[43m(\u001b[49m\u001b[43mCommand\u001b[49m\u001b[38;5;241;43m.\u001b[39;49m\u001b[43mGET\u001b[49m\u001b[43m,\u001b[49m\u001b[43m \u001b[49m\u001b[43m{\u001b[49m\u001b[38;5;124;43m\"\u001b[39;49m\u001b[38;5;124;43murl\u001b[39;49m\u001b[38;5;124;43m\"\u001b[39;49m\u001b[43m:\u001b[49m\u001b[43m \u001b[49m\u001b[43murl\u001b[49m\u001b[43m}\u001b[49m\u001b[43m)\u001b[49m\n",
      "File \u001b[1;32mc:\\Users\\sklhs\\anaconda3\\envs\\amazon_scraper\\lib\\site-packages\\selenium\\webdriver\\remote\\webdriver.py:347\u001b[0m, in \u001b[0;36mWebDriver.execute\u001b[1;34m(self, driver_command, params)\u001b[0m\n\u001b[0;32m    345\u001b[0m response \u001b[38;5;241m=\u001b[39m \u001b[38;5;28mself\u001b[39m\u001b[38;5;241m.\u001b[39mcommand_executor\u001b[38;5;241m.\u001b[39mexecute(driver_command, params)\n\u001b[0;32m    346\u001b[0m \u001b[38;5;28;01mif\u001b[39;00m response:\n\u001b[1;32m--> 347\u001b[0m     \u001b[38;5;28;43mself\u001b[39;49m\u001b[38;5;241;43m.\u001b[39;49m\u001b[43merror_handler\u001b[49m\u001b[38;5;241;43m.\u001b[39;49m\u001b[43mcheck_response\u001b[49m\u001b[43m(\u001b[49m\u001b[43mresponse\u001b[49m\u001b[43m)\u001b[49m\n\u001b[0;32m    348\u001b[0m     response[\u001b[38;5;124m\"\u001b[39m\u001b[38;5;124mvalue\u001b[39m\u001b[38;5;124m\"\u001b[39m] \u001b[38;5;241m=\u001b[39m \u001b[38;5;28mself\u001b[39m\u001b[38;5;241m.\u001b[39m_unwrap_value(response\u001b[38;5;241m.\u001b[39mget(\u001b[38;5;124m\"\u001b[39m\u001b[38;5;124mvalue\u001b[39m\u001b[38;5;124m\"\u001b[39m, \u001b[38;5;28;01mNone\u001b[39;00m))\n\u001b[0;32m    349\u001b[0m     \u001b[38;5;28;01mreturn\u001b[39;00m response\n",
      "File \u001b[1;32mc:\\Users\\sklhs\\anaconda3\\envs\\amazon_scraper\\lib\\site-packages\\selenium\\webdriver\\remote\\errorhandler.py:229\u001b[0m, in \u001b[0;36mErrorHandler.check_response\u001b[1;34m(self, response)\u001b[0m\n\u001b[0;32m    227\u001b[0m         alert_text \u001b[38;5;241m=\u001b[39m value[\u001b[38;5;124m\"\u001b[39m\u001b[38;5;124malert\u001b[39m\u001b[38;5;124m\"\u001b[39m]\u001b[38;5;241m.\u001b[39mget(\u001b[38;5;124m\"\u001b[39m\u001b[38;5;124mtext\u001b[39m\u001b[38;5;124m\"\u001b[39m)\n\u001b[0;32m    228\u001b[0m     \u001b[38;5;28;01mraise\u001b[39;00m exception_class(message, screen, stacktrace, alert_text)  \u001b[38;5;66;03m# type: ignore[call-arg]  # mypy is not smart enough here\u001b[39;00m\n\u001b[1;32m--> 229\u001b[0m \u001b[38;5;28;01mraise\u001b[39;00m exception_class(message, screen, stacktrace)\n",
      "\u001b[1;31mNoSuchWindowException\u001b[0m: Message: no such window: target window already closed\nfrom unknown error: web view not found\n  (Session info: chrome=124.0.6367.202)\nStacktrace:\n\tGetHandleVerifier [0x00007FF637E21562+60802]\n\t(No symbol) [0x00007FF637D9AC62]\n\t(No symbol) [0x00007FF637C57CE4]\n\t(No symbol) [0x00007FF637C2DFDF]\n\t(No symbol) [0x00007FF637CD1E57]\n\t(No symbol) [0x00007FF637CE98D1]\n\t(No symbol) [0x00007FF637CCA923]\n\t(No symbol) [0x00007FF637C98FEC]\n\t(No symbol) [0x00007FF637C99C21]\n\tGetHandleVerifier [0x00007FF6381241FD+3217949]\n\tGetHandleVerifier [0x00007FF638166197+3488183]\n\tGetHandleVerifier [0x00007FF63815F11F+3459391]\n\tGetHandleVerifier [0x00007FF637EDB926+823622]\n\t(No symbol) [0x00007FF637DA5FFF]\n\t(No symbol) [0x00007FF637DA0F24]\n\t(No symbol) [0x00007FF637DA10B2]\n\t(No symbol) [0x00007FF637D91904]\n\tBaseThreadInitThunk [0x00007FFDF301257D+29]\n\tRtlUserThreadStart [0x00007FFDF496AA48+40]\n"
     ]
    }
   ],
   "source": [
    "while True:\n",
    "    # open up google \n",
    "    driver=webdriver.Chrome()\n",
    "\n",
    "    # store information for flight\n",
    "    origin = 'ORD'\n",
    "    destination = 'BWI'\n",
    "    departure_date = '2024-12-14'\n",
    "    return_date = '2024-12-20'\n",
    "\n",
    "\n",
    "    # get to the website\n",
    "    url = f'https://www.kayak.com/flights/{origin}-{destination}/{departure_date}/{return_date}?sort=price_a&fs=stops=-2'\n",
    "    driver.get(url)\n",
    "    time.sleep(15)\n",
    "    content=driver.page_source\n",
    "    soup=BeautifulSoup(content)\n",
    "\n",
    "    for div in soup.findAll('div',attrs={'class':'Hv20-value'}):\n",
    "        # gets the best price \n",
    "        price=div.text[1:4]\n",
    "\n",
    "        if int(price) < 375:\n",
    "            send_email(price,url)\n",
    "\n",
    "    driver.quit()\n",
    "    time.sleep(10800)"
   ]
  }
 ],
 "metadata": {
  "kernelspec": {
   "display_name": "amazon_scraper",
   "language": "python",
   "name": "python3"
  },
  "language_info": {
   "codemirror_mode": {
    "name": "ipython",
    "version": 3
   },
   "file_extension": ".py",
   "mimetype": "text/x-python",
   "name": "python",
   "nbconvert_exporter": "python",
   "pygments_lexer": "ipython3",
   "version": "3.9.19"
  }
 },
 "nbformat": 4,
 "nbformat_minor": 2
}
